{
 "cells": [
  {
   "cell_type": "code",
   "execution_count": 9,
   "id": "e2e0e2f0",
   "metadata": {},
   "outputs": [],
   "source": [
    "import math\n",
    "import numpy as np\n",
    "import gurobipy as gp\n",
    "from gurobipy import GRB\n",
    "from problem_data import number_of_cycles, points_by_cycle"
   ]
  },
  {
   "cell_type": "code",
   "execution_count": 11,
   "id": "a994d63b",
   "metadata": {},
   "outputs": [],
   "source": [
    "number_of_points = 10"
   ]
  },
  {
   "cell_type": "code",
   "execution_count": 43,
   "id": "15070b01",
   "metadata": {},
   "outputs": [],
   "source": [
    "def distance (source, target):\n",
    "    return np.linalg.norm(target - source, ord=2)\n",
    "\n",
    "def make_distance_dict (points, number_of_points):\n",
    "    assert number_of_points <= points.shape[0]\n",
    "    return {\n",
    "        (i, j): distance(points[i], points[j])\n",
    "        for i in range(number_of_points)\n",
    "        for j in range(i)\n",
    "    }\n",
    "\n",
    "def make_variables (model, cycle_number, indices, costs):\n",
    "    variables = model.addVars(indices, obj=costs, vtype=GRB.BINARY, name=f'e{cycle_number}')\n",
    "    for i, j in variables.keys():\n",
    "        variables[j, i] = variables[i, j]  # edge in opposite direction\n",
    "    return variables\n",
    "\n",
    "def make_variables_by_cycle (model, distances_by_cycle):\n",
    "    variables_by_cycle = [\n",
    "        make_variables(\n",
    "            model,\n",
    "            cycle_number,\n",
    "            distances_by_cycle[cycle_number].keys(),\n",
    "            distances_by_cycle[cycle_number]\n",
    "        )\n",
    "        for cycle_number in range(number_of_cycles)\n",
    "    ]\n",
    "    return variables_by_cycle\n",
    "\n",
    "def make_constraints_by_cycle (model, variables_by_cycle, number_of_cycles, number_of_points):\n",
    "    constraints = [\n",
    "        [\n",
    "            model.addConstrs(\n",
    "                variables_by_cycle[cycle_number].sum(point_index, '*') == 2\n",
    "                for point_index in range(number_of_points)\n",
    "            )\n",
    "        ]\n",
    "        for cycle_number in range(number_of_cycles)\n",
    "    ]\n",
    "    return constraints"
   ]
  },
  {
   "cell_type": "code",
   "execution_count": 44,
   "id": "a71348f4",
   "metadata": {},
   "outputs": [],
   "source": [
    "distances_by_cycle = [\n",
    "    make_distance_dict(points_by_cycle[cycle_number], number_of_points)\n",
    "    for cycle_number in range(number_of_cycles)\n",
    "]"
   ]
  },
  {
   "cell_type": "code",
   "execution_count": 47,
   "id": "3329efaa",
   "metadata": {},
   "outputs": [],
   "source": [
    "# mathematical model\n",
    "\n",
    "model = gp.Model()\n",
    "\n",
    "## variables\n",
    "\n",
    "variables_by_cycle = make_variables_by_cycle(model, distances_by_cycle)\n",
    "\n",
    "## constraints\n",
    "\n",
    "constraints_by_cycle = make_constraints_by_cycle(model, variables_by_cycle, number_of_cycles, number_of_points)\n"
   ]
  }
 ],
 "metadata": {
  "kernelspec": {
   "display_name": "Python 3 (ipykernel)",
   "language": "python",
   "name": "python3"
  },
  "language_info": {
   "codemirror_mode": {
    "name": "ipython",
    "version": 3
   },
   "file_extension": ".py",
   "mimetype": "text/x-python",
   "name": "python",
   "nbconvert_exporter": "python",
   "pygments_lexer": "ipython3",
   "version": "3.7.12"
  }
 },
 "nbformat": 4,
 "nbformat_minor": 5
}
